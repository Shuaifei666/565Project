{
 "cells": [
  {
   "cell_type": "markdown",
   "metadata": {},
   "source": [
    "## Meta matching v1.0\n",
    "This jupyter notebook demonstrates you how to load and use meta-matching algorthm. In this demonstration, we performed Meta-matching (DNN) stacking with 100 example subjects.\n",
    "\n",
    "Package needed (and version this jupyter notebook tested):\n",
    "* Numpy (1.16.4)\n",
    "* Scipy (1.0.0)\n",
    "* PyTorch (1.3.1)\n",
    "* Scikit-learn (0.21.3)"
   ]
  },
  {
   "cell_type": "markdown",
   "metadata": {},
   "source": [
    "### Step 0. Setup\n",
    "Please modify the `path_repo` below to your repo position:"
   ]
  },
  {
   "cell_type": "code",
   "execution_count": 1,
   "metadata": {},
   "outputs": [],
   "source": [
    "path_repo = '/home/the/deepGround/code/2002/Meta_matching_models/'"
   ]
  },
  {
   "cell_type": "code",
   "execution_count": 2,
   "metadata": {},
   "outputs": [],
   "source": [
    "# initialization and random seed set\n",
    "\n",
    "import os\n",
    "import scipy\n",
    "import torch\n",
    "import random\n",
    "import sklearn\n",
    "import numpy as np\n",
    "\n",
    "seed = 42\n",
    "random.seed(seed)\n",
    "np.random.seed(seed)\n",
    "torch.manual_seed(seed)\n",
    "torch.cuda.manual_seed(seed)\n",
    "torch.cuda.manual_seed_all(seed)\n",
    "\n",
    "import warnings\n",
    "warnings.filterwarnings(\"ignore\")"
   ]
  },
  {
   "cell_type": "markdown",
   "metadata": {},
   "source": [
    "Please modify the gpu number here if you want to use different gpu. If the gpu you assigned not availiable, it will assign to cpu"
   ]
  },
  {
   "cell_type": "code",
   "execution_count": 3,
   "metadata": {},
   "outputs": [],
   "source": [
    "gpu = 0\n",
    "os.environ[\"CUDA_VISIBLE_DEVICES\"] = str(gpu)\n",
    "device = torch.device(\"cuda\" if torch.cuda.is_available() else \"cpu\")"
   ]
  },
  {
   "cell_type": "markdown",
   "metadata": {},
   "source": [
    "### Step 1. load data\n",
    "Load the example data that we provided, it contains \n",
    "* Example input functional connectivity (FC) `x` with size of (100, 87571)\n",
    "    * 100 is number of subjects\n",
    "    * 87571 is flatten vector of 419 by 419 FC (419*418/2=87571)\n",
    "* Example output phenotypes `y` with size of (100, 3)\n",
    "    * 3 is number of phenotypes."
   ]
  },
  {
   "cell_type": "code",
   "execution_count": 4,
   "metadata": {},
   "outputs": [
    {
     "name": "stdout",
     "output_type": "stream",
     "text": [
      "['x', 'y']\n",
      "(100, 87571) (100, 3)\n"
     ]
    }
   ],
   "source": [
    "path_v1 = os.path.join(path_repo, 'v1.0')\n",
    "npz = os.path.join(path_v1, 'meta_matching_v1.0_data.npz')\n",
    "npz = np.load(npz)\n",
    "print(npz.files)\n",
    "x_input = npz['x']\n",
    "y_input = npz['y']\n",
    "print(x_input.shape, y_input.shape)"
   ]
  },
  {
   "cell_type": "markdown",
   "metadata": {},
   "source": [
    "### Step 2. Split data\n",
    "Here, we also split 100 subjects to 80/20, where 80 for training, and 20 for test."
   ]
  },
  {
   "cell_type": "code",
   "execution_count": 5,
   "metadata": {},
   "outputs": [
    {
     "name": "stdout",
     "output_type": "stream",
     "text": [
      "(80, 87571) (20, 87571) (80, 3) (20, 3)\n"
     ]
    }
   ],
   "source": [
    "from sklearn.model_selection import train_test_split\n",
    "x_train, x_test, y_train, y_test = train_test_split(x_input, y_input, test_size=0.2, random_state=42)\n",
    "print(x_train.shape, x_test.shape, y_train.shape, y_test.shape)"
   ]
  },
  {
   "cell_type": "markdown",
   "metadata": {},
   "source": [
    "### Step 3. Prepare data for PyTorch model\n",
    "Then we prepare data for DNN model, we will input both the `x_train` and `x_test` into the model to get the predicted phenotypes. \n",
    "\n",
    "For meta-matching (DNN) stacking, we do not need real phenotype for the DNN model, I created all zeros `y_dummy` just for function requirement. In some other cases, like meta-matching (DNN) finetuning, you need to use real phenotype data here."
   ]
  },
  {
   "cell_type": "code",
   "execution_count": 6,
   "metadata": {},
   "outputs": [],
   "source": [
    "from torch.utils.data import DataLoader\n",
    "from CBIG_model_pytorch import multi_task_dataset\n",
    "\n",
    "batch_size = 16\n",
    "y_dummy = np.zeros(y_train.shape)\n",
    "dset_train = multi_task_dataset(x_train, y_dummy, True)\n",
    "trainLoader = DataLoader(dset_train,\n",
    "                         batch_size=batch_size,\n",
    "                         shuffle=False,\n",
    "                         num_workers=1)\n",
    "\n",
    "y_dummy = np.zeros(y_test.shape)\n",
    "dset_test = multi_task_dataset(x_test, y_dummy, True)\n",
    "testLoader = DataLoader(dset_test,\n",
    "                        batch_size=batch_size,\n",
    "                        shuffle=False,\n",
    "                        num_workers=1)"
   ]
  },
  {
   "cell_type": "markdown",
   "metadata": {},
   "source": [
    "### Step 4. load model\n",
    "Here we load the meta-matching model saved, it is a DNN that takes FC as input and output 67 phenotypes prediction trained on 67 UK Biobank phenotypes"
   ]
  },
  {
   "cell_type": "code",
   "execution_count": 7,
   "metadata": {},
   "outputs": [
    {
     "name": "stdout",
     "output_type": "stream",
     "text": [
      "dnn_4l(\n",
      "  (fc1): Sequential(\n",
      "    (0): Dropout(p=0.28836)\n",
      "    (1): Linear(in_features=87571, out_features=118, bias=True)\n",
      "    (2): ReLU()\n",
      "    (3): BatchNorm1d(118, eps=1e-05, momentum=0.1, affine=True, track_running_stats=True)\n",
      "  )\n",
      "  (fc2): Sequential(\n",
      "    (0): Dropout(p=0.28836)\n",
      "    (1): Linear(in_features=118, out_features=445, bias=True)\n",
      "    (2): ReLU()\n",
      "    (3): BatchNorm1d(445, eps=1e-05, momentum=0.1, affine=True, track_running_stats=True)\n",
      "  )\n",
      "  (fc3): Sequential(\n",
      "    (0): Dropout(p=0.28836)\n",
      "    (1): Linear(in_features=445, out_features=353, bias=True)\n",
      "    (2): ReLU()\n",
      "    (3): BatchNorm1d(353, eps=1e-05, momentum=0.1, affine=True, track_running_stats=True)\n",
      "  )\n",
      "  (fc4): Sequential(\n",
      "    (0): Dropout(p=0.28836)\n",
      "    (1): Linear(in_features=353, out_features=67, bias=True)\n",
      "  )\n",
      ")\n"
     ]
    }
   ],
   "source": [
    "path_model_weight = os.path.join(path_v1, 'meta_matching_v1.0_model.pkl_torch') \n",
    "net = torch.load(path_model_weight)\n",
    "net.to(device)\n",
    "net.train(False)\n",
    "print(net)"
   ]
  },
  {
   "cell_type": "markdown",
   "metadata": {},
   "source": [
    "### Step 5. DNN model predict\n",
    "Here we apply the DNN trained on 67 UK Biobank phenotypes to predict the 67 phenotypes on `x_train` and `x_test`. We will get the predicted 67 phenotypes on both 80 training subjects and 20 test subjects."
   ]
  },
  {
   "cell_type": "code",
   "execution_count": 8,
   "metadata": {},
   "outputs": [
    {
     "name": "stdout",
     "output_type": "stream",
     "text": [
      "(80, 67) \n",
      " [[-0.172272    0.00659015 -0.30208859 ... -0.15929005 -0.38077325\n",
      "   0.03831939]\n",
      " [ 0.08401449 -0.20126963  0.62567258 ...  0.14059752 -0.00804278\n",
      "   0.46316075]\n",
      " [ 0.13499427  0.1402548  -0.51653898 ...  0.0167924  -0.2124238\n",
      "  -0.15089566]\n",
      " ...\n",
      " [ 0.14017338 -0.13507895  0.0617892  ...  0.14889172  0.00375667\n",
      "   0.00102914]\n",
      " [-0.00132062 -0.20964415  0.35207626 ...  0.17323519 -0.12568392\n",
      "  -0.07328422]\n",
      " [-0.14659929  0.0975946  -0.24224234 ... -0.07367411 -0.56735682\n",
      "  -0.06110717]]\n",
      "(20, 67) \n",
      " [[-0.07091491 -0.20356587  0.30995747 ...  0.17636682 -0.36347133\n",
      "  -0.133562  ]\n",
      " [-0.01349919 -0.13479869  0.26539764 ...  0.22685151  0.03282824\n",
      "  -0.2556946 ]\n",
      " [ 0.038739   -0.22324203  0.34538236 ...  0.21638939 -0.10278898\n",
      "  -0.06968385]\n",
      " ...\n",
      " [ 0.01483439 -0.27222618  0.38793996 ...  0.13031593 -0.24093731\n",
      "   0.35386056]\n",
      " [-0.11500867 -0.14910062  0.18525353 ...  0.11365265 -0.3204653\n",
      "  -0.13270395]\n",
      " [ 0.13167757  0.13831383 -0.34880358 ...  0.00669166  0.02046016\n",
      "  -0.12482683]]\n"
     ]
    }
   ],
   "source": [
    "y_train_pred = np.zeros((0, 67))\n",
    "for (x, _) in trainLoader:\n",
    "    x= x.to(device)\n",
    "    outputs = net(x)\n",
    "    y_train_pred = np.concatenate((y_train_pred, outputs.data.cpu().numpy()), axis=0)\n",
    "print(y_train_pred.shape, '\\n', y_train_pred)\n",
    "\n",
    "y_test_pred = np.zeros((0, 67))\n",
    "for (x, _) in testLoader:\n",
    "    x= x.to(device)\n",
    "    outputs = net(x)\n",
    "    y_test_pred = np.concatenate((y_test_pred, outputs.data.cpu().numpy()), axis=0)\n",
    "print(y_test_pred.shape, '\\n', y_test_pred)"
   ]
  },
  {
   "cell_type": "markdown",
   "metadata": {},
   "source": [
    "### Step 6. Stacking\n",
    "Perform stacking with `y_train_pred`, `y_test_pred`, `y_train`, where we use the prediction of 80 subjects `y_train_pred` (input) and real data `y_train` (output) to train the stacking model (you can either use all 67 source phenotypes for stacking, or select top K source phenotypes relevant to the target phenotype, like we mentioned in our paper; it turns out that these 2 ways achieves similar performances), then we applied the model to `y_test_pred` to get final prediction of 3 phenotypes on 20 subjects.\n",
    "\n",
    "#### Hyperparameter Tuning \n",
    "In `stacking()` function, we set the range of `alpha` as `[0.00001, 0.0001, 0.001, 0.004, 0.007, 0.01, 0.04, 0.07, 0.1, 0.4, 0.7, 1, 1.5, 2, 2.5, 3, 3.5, 4, 5, 10, 15, 20]`. You are weclomed to modify the range of `alpha` to get better performance on your own data."
   ]
  },
  {
   "cell_type": "code",
   "execution_count": 9,
   "metadata": {
    "scrolled": false
   },
   "outputs": [
    {
     "name": "stdout",
     "output_type": "stream",
     "text": [
      "(20, 3) \n",
      " [[57.24721662 25.93593471 27.42260812]\n",
      " [57.17464648 22.06164967 27.09655679]\n",
      " [57.36885787 24.58059273 23.47095128]\n",
      " [37.18790062 11.75935953 17.75585536]\n",
      " [49.15729714 18.46283874 20.20713775]\n",
      " [47.47034421 20.04291041 19.96088333]\n",
      " [54.40565287 24.73385254 23.27530303]\n",
      " [40.99368824 15.31938207 21.09597922]\n",
      " [39.04515144 13.11091786 24.61157533]\n",
      " [55.31277077 23.59103157 23.66408308]\n",
      " [53.2619468  21.25685212 32.77598961]\n",
      " [69.68917784 30.63488612 33.2993819 ]\n",
      " [57.15704176 22.6005547  28.7508873 ]\n",
      " [63.07881709 27.04354614 36.24269097]\n",
      " [61.76455526 25.88692435 30.91435491]\n",
      " [45.64962282 18.33914718 26.5944906 ]\n",
      " [32.08765105 10.42885616 27.66779398]\n",
      " [52.84638675 19.99915162 21.17068869]\n",
      " [56.24636571 23.80775338 29.4101872 ]\n",
      " [30.18812825 11.68765957 18.13563685]]\n"
     ]
    }
   ],
   "source": [
    "from CBIG_model_pytorch import stacking\n",
    "y_test_final=np.zeros((y_test_pred.shape[0], y_train.shape[1]))\n",
    "for i in range(y_train.shape[1]):\n",
    "    # For each test phenotype, perform stacking by developing a KRR model\n",
    "    y_test_temp, _ = stacking(y_train_pred, y_test_pred, y_train[:,i].view(), [0.00001, 0.0001, 0.001, 0.004, 0.007, 0.01, 0.04, 0.07, 0.1, 0.4, 0.7, 1, 1.5, 2, 2.5, 3, 3.5, 4, 5, 10, 15, 20])\n",
    "    y_test_final[:,i] = y_test_temp.flatten()\n",
    "print(y_test_final.shape, '\\n', y_test_final)"
   ]
  },
  {
   "cell_type": "markdown",
   "metadata": {},
   "source": [
    "### Step 7. Evaluation\n",
    "Evaluate the prediction performance."
   ]
  },
  {
   "cell_type": "code",
   "execution_count": 10,
   "metadata": {},
   "outputs": [
    {
     "name": "stdout",
     "output_type": "stream",
     "text": [
      "[0.24716759 0.3731039  0.22339029]\n"
     ]
    }
   ],
   "source": [
    "from scipy.stats.stats import pearsonr\n",
    "corr = np.zeros((y_train.shape[1]))\n",
    "for i in range(y_train.shape[1]):\n",
    "    corr[i] = pearsonr(y_test_final[:, i], y_test[:, i])[0]\n",
    "print(corr)"
   ]
  },
  {
   "cell_type": "markdown",
   "metadata": {},
   "source": [
    "### Step 8. Haufe transform predictive network features (PNFs) computation\n",
    "Here we compute the PNF for stacking we just performed. It computes the covariance between 3 phenotype prediciton and each element of FC on the 80 training subjects. The final PNF is in shape of (87571, 3), where 87571 is number of 419 by 419 FC elements, and 3 is number of phenotypes."
   ]
  },
  {
   "cell_type": "code",
   "execution_count": 11,
   "metadata": {},
   "outputs": [
    {
     "name": "stdout",
     "output_type": "stream",
     "text": [
      "(80, 3)\n",
      "[[ 0.18386779  0.11068105  0.01352506]\n",
      " [ 0.11193218  0.07715994 -0.04188849]\n",
      " [ 0.14536077  0.09807378 -0.04420571]\n",
      " ...\n",
      " [ 0.21679946  0.09523117  0.04394207]\n",
      " [ 0.19566518  0.09021544  0.03804684]\n",
      " [ 0.24579282  0.12446282 -0.00408762]] \n",
      " (87571, 3)\n"
     ]
    }
   ],
   "source": [
    "from CBIG_model_pytorch import covariance_rowwise\n",
    "\n",
    "y_train_haufe, _ = stacking(y_train_pred, y_train_pred, y_train)\n",
    "print(y_train_haufe.shape)\n",
    "cov = covariance_rowwise(x_train, y_train_haufe)\n",
    "print(cov, '\\n', cov.shape)"
   ]
  },
  {
   "cell_type": "markdown",
   "metadata": {},
   "source": [
    "### Step 9. Haufe transform predictive network features (PNFs) computation for training phenotypes\n",
    "Here we compute the PNF for stacking we just performed. It computes the covariance between 3 phenotype prediciton and each training phenotypes on the 80 training subjects. The final PNF is in shape of (67, 3), where 67 is number of training phenotypes, and 3 is number of phenotypes."
   ]
  },
  {
   "cell_type": "code",
   "execution_count": 12,
   "metadata": {},
   "outputs": [
    {
     "name": "stdout",
     "output_type": "stream",
     "text": [
      "[[ 1.09301569e-01  3.93907974e-02  1.50063012e-03]\n",
      " [-3.24056280e-01 -1.63686179e-01  1.19564001e-02]\n",
      " [ 8.72237884e-01  3.97970407e-01  2.16037853e-01]\n",
      " [ 1.64926550e-01  8.13263431e-02  6.21015442e-02]\n",
      " [ 5.25556978e-02 -1.65187511e-02 -1.95600369e-01]\n",
      " [-2.92966772e-01 -2.00420736e-01 -2.87878342e-01]\n",
      " [ 9.16181220e-02  4.24523403e-02  1.85445718e-01]\n",
      " [ 1.52624239e-01  8.78352237e-02  2.46047791e-01]\n",
      " [ 7.58826719e-01  3.20920561e-01  1.40666989e-01]\n",
      " [-2.34889958e-02 -6.77216088e-02 -1.80829885e-01]\n",
      " [ 3.62778569e-01  1.59681010e-01  6.86976561e-02]\n",
      " [-4.80388219e-01 -2.90244428e-01 -1.80062749e-01]\n",
      " [-2.35074833e-01 -1.05488542e-01 -1.44898649e-01]\n",
      " [ 7.05743612e-01  3.93537651e-01  7.06486177e-01]\n",
      " [ 3.05856161e-01  1.54111770e-01  2.50461281e-01]\n",
      " [ 2.27410570e+00  1.12351092e+00  6.99330049e-01]\n",
      " [-7.61002721e-01 -4.18166489e-01 -3.64184461e-01]\n",
      " [-3.24147594e-01 -8.51297903e-02 -1.40108104e-01]\n",
      " [-7.59051740e-01 -3.86189892e-01 -5.27179368e-01]\n",
      " [-2.87857567e-02 -6.68946947e-03  1.48706805e-03]\n",
      " [ 6.39444587e-01  3.03591236e-01  5.22974073e-01]\n",
      " [ 1.87171448e-01  8.36357642e-02  6.37114126e-02]\n",
      " [-4.79794482e-01 -2.30702622e-01 -1.51699086e-01]\n",
      " [ 2.07409083e+00  1.02573798e+00  6.30039575e-01]\n",
      " [-1.57056315e+00 -5.96398592e-01 -8.55671436e-01]\n",
      " [ 4.90339014e-01  3.09199270e-01  7.82984573e-02]\n",
      " [-1.43967477e-01 -5.91073447e-02 -1.83970637e-02]\n",
      " [-1.49104564e+00 -7.26765872e-01 -3.81874252e-01]\n",
      " [ 4.42372018e-01  2.43185313e-01  1.24662106e-01]\n",
      " [ 9.36445329e-01  4.55135433e-01  3.52781710e-01]\n",
      " [ 3.73431469e-01  1.88494785e-01  1.74961899e-01]\n",
      " [ 3.56270396e-01  2.14141587e-01  3.48232363e-01]\n",
      " [-4.84561367e-01 -2.27226315e-01 -1.56261987e-01]\n",
      " [ 4.74400497e-03  6.74673008e-02  4.31099200e-02]\n",
      " [ 4.46090442e-01  1.97742401e-01  3.24487960e-01]\n",
      " [-5.10289691e-01 -2.39113794e-01 -4.42468233e-01]\n",
      " [-8.38702266e-01 -4.17113742e-01 -6.09577613e-01]\n",
      " [ 6.10292482e-01  2.84441593e-01  4.97093402e-01]\n",
      " [-6.58820531e-01 -3.05709250e-01 -3.55976137e-01]\n",
      " [ 1.47117273e-01  1.45289596e-01  2.61046700e-01]\n",
      " [ 5.73316822e-01  2.79620590e-01  4.18674756e-01]\n",
      " [ 1.24479092e-01  1.89923294e-02  1.64605716e-01]\n",
      " [-7.82538342e-01 -4.22929762e-01 -6.86745373e-01]\n",
      " [ 4.56572736e-01  2.42784433e-01  2.78409710e-01]\n",
      " [-5.84750349e-01 -2.93577719e-01 -3.37208662e-01]\n",
      " [-2.67319284e-01 -1.49734431e-01 -1.68200835e-01]\n",
      " [ 9.76554545e-02  2.24687041e-02 -1.03141270e-01]\n",
      " [-1.92427782e+00 -9.23870227e-01 -7.76377423e-01]\n",
      " [-1.90068832e+00 -9.40621929e-01 -6.85002662e-01]\n",
      " [ 2.02688669e+00  1.02371283e+00  7.34854708e-01]\n",
      " [ 1.11388082e-01  3.23973197e-02 -3.30605362e-02]\n",
      " [ 3.42269544e-01  9.71628201e-02  2.06574647e-02]\n",
      " [ 1.21264408e-01  8.05701863e-02 -1.50699644e-01]\n",
      " [ 1.17233454e-01  1.29089130e-01 -2.22790100e-02]\n",
      " [ 7.70402215e-03  3.41778327e-03 -2.08097935e-02]\n",
      " [ 6.03527998e-01  3.00561449e-01  8.17750450e-02]\n",
      " [ 7.79901923e-01  3.95643353e-01  3.13872051e-01]\n",
      " [-1.64066664e+00 -8.01754337e-01 -5.58605261e-01]\n",
      " [-1.58843221e+00 -8.11470736e-01 -5.79532236e-01]\n",
      " [ 3.18906575e-01  1.08792267e-01  2.75840943e-01]\n",
      " [-5.02674131e-01 -2.38983131e-01 -2.48746077e-01]\n",
      " [-1.37711028e-01 -1.05752107e-01 -1.77909217e-02]\n",
      " [ 4.81925543e-01  2.92508745e-01  1.63462890e-01]\n",
      " [-2.29891015e-01 -1.50355085e-01 -1.76079381e-01]\n",
      " [ 3.73274515e-01  1.72114265e-01  6.27866295e-02]\n",
      " [ 9.31804112e-02 -2.69733896e-02 -1.17859818e-01]\n",
      " [-1.97141001e-01 -1.34497694e-01 -1.38029716e-01]] \n",
      " (67, 3)\n"
     ]
    }
   ],
   "source": [
    "from CBIG_model_pytorch import covariance_rowwise\n",
    "\n",
    "cov = covariance_rowwise(y_train_pred, y_train_haufe)\n",
    "print(cov, '\\n', cov.shape)"
   ]
  }
 ],
 "metadata": {
  "interpreter": {
   "hash": "9211f842e4957b840c6ab516fe1756049fc8809c71ad1557ffcdfc52960e8d65"
  },
  "kernelspec": {
   "display_name": "Python 3",
   "language": "python",
   "name": "python3"
  },
  "language_info": {
   "codemirror_mode": {
    "name": "ipython",
    "version": 3
   },
   "file_extension": ".py",
   "mimetype": "text/x-python",
   "name": "python",
   "nbconvert_exporter": "python",
   "pygments_lexer": "ipython3",
   "version": "3.6.13"
  }
 },
 "nbformat": 4,
 "nbformat_minor": 2
}
